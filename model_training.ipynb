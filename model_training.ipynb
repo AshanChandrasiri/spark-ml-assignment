{
  "cells": [
    {
      "cell_type": "code",
      "execution_count": null,
      "metadata": {
        "id": "Cnslnfz0yz8d"
      },
      "outputs": [],
      "source": [
        "from pyspark.sql import SparkSession\n",
        "from pyspark.sql.functions import regexp_replace, lower, col, monotonically_increasing_id, explode, udf\n",
        "from pyspark.ml import Pipeline\n",
        "from pyspark.ml.feature import Tokenizer, StopWordsRemover, Word2Vec, StringIndexer\n",
        "from pyspark.ml.classification import LogisticRegression\n",
        "\n",
        "from pyspark.sql.types import ArrayType, StringType\n",
        "import nltk\n",
        "from nltk.stem import PorterStemmer\n",
        "from pyspark.ml.tuning import ParamGridBuilder, CrossValidator\n",
        "from pyspark.ml.evaluation import MulticlassClassificationEvaluator"
      ]
    },
    {
      "cell_type": "code",
      "execution_count": null,
      "metadata": {
        "id": "QFvdaIM4P7YV"
      },
      "outputs": [],
      "source": [
        "spark = SparkSession.builder.appName(\"MusicClassification\").getOrCreate()"
      ]
    },
    {
      "cell_type": "code",
      "execution_count": null,
      "metadata": {
        "colab": {
          "base_uri": "https://localhost:8080/"
        },
        "id": "J68lIRCy8Mbw",
        "outputId": "b49b1ac6-b379-4220-aada-e08d3581198f"
      },
      "outputs": [
        {
          "output_type": "stream",
          "name": "stderr",
          "text": [
            "[nltk_data] Downloading package punkt to /root/nltk_data...\n",
            "[nltk_data]   Package punkt is already up-to-date!\n"
          ]
        }
      ],
      "source": [
        "df = spark.read.csv(\"/content/drive/MyDrive/msc-ml/datasets/merged_df.csv\", header=True , inferSchema=True)\n",
        "\n",
        "# Data Cleaning\n",
        "df = df.withColumn(\"clean_lyrics\", lower(col(\"lyrics\")))  # Convert to lowercase\n",
        "df = df.withColumn(\"clean_lyrics\", regexp_replace(col(\"clean_lyrics\"), \"[^a-zA-Z\\\\s]\", \"\"))  # Remove special characters\n",
        "df = df.withColumn(\"index\", monotonically_increasing_id())  # Add unique index column\n",
        "\n",
        "# Label Encoding (Convert genre to numerical label)\n",
        "label_indexer = StringIndexer(inputCol=\"genre\", outputCol=\"label\")\n",
        "label_indexer_model = label_indexer.fit(df)\n",
        "df = label_indexer_model.transform(df)\n",
        "\n",
        "# Tokenization\n",
        "tokenizer = Tokenizer(inputCol=\"clean_lyrics\", outputCol=\"words\")\n",
        "df = tokenizer.transform(df)\n",
        "\n",
        "# Stopword Removal\n",
        "stop_words_remover = StopWordsRemover(inputCol=\"words\", outputCol=\"filtered_words\")\n",
        "df = stop_words_remover.transform(df)\n",
        "\n",
        "# Stemming using NLTK\n",
        "nltk.download(\"punkt\")\n",
        "stemmer = PorterStemmer()\n",
        "stem_udf = udf(lambda words: [stemmer.stem(word) for word in words], ArrayType(StringType()))\n",
        "df = df.withColumn(\"stemmed_words\", stem_udf(col(\"filtered_words\")))\n",
        "\n",
        "# Word2Vec Feature Extraction\n",
        "word2Vec = Word2Vec(vectorSize=100, minCount=2, inputCol=\"stemmed_words\", outputCol=\"features\")\n",
        "word2Vec_model = word2Vec.fit(df)\n",
        "df = word2Vec_model.transform(df)\n",
        "\n",
        "# Split the data into training and test sets (80/20 split)\n",
        "train_data, test_data = df.randomSplit([0.8, 0.2], seed=239375)"
      ]
    },
    {
      "cell_type": "code",
      "execution_count": null,
      "metadata": {
        "id": "PUuyxN805HxE"
      },
      "outputs": [],
      "source": [
        "word2vec_model_path = \"/content/drive/MyDrive/ml-datasets/saved-model/tcc_ceds_music/word2vec-combined-df-v2\""
      ]
    },
    {
      "cell_type": "code",
      "execution_count": null,
      "metadata": {
        "id": "A98W5iQNt8Dm"
      },
      "outputs": [],
      "source": [
        "word2Vec_model.save(word2vec_model_path)"
      ]
    },
    {
      "cell_type": "code",
      "execution_count": null,
      "metadata": {
        "colab": {
          "base_uri": "https://localhost:8080/"
        },
        "id": "pUpTKbMv0JUX",
        "outputId": "60966cad-a837-485f-faf2-767b1c168ddb"
      },
      "outputs": [
        {
          "output_type": "stream",
          "name": "stdout",
          "text": [
            "Label Names: ['pop', 'country', 'blues', 'rock', 'jazz', 'reggae', 'hip hop', 'soul']\n"
          ]
        }
      ],
      "source": [
        "label_names = label_indexer_model.labels\n",
        "print(\"Label Names:\", label_names)"
      ]
    },
    {
      "cell_type": "code",
      "execution_count": null,
      "metadata": {
        "id": "pSQmclKHzhxS"
      },
      "outputs": [],
      "source": [
        "from datetime import datetime\n",
        "from pyspark.ml.classification import RandomForestClassifier"
      ]
    },
    {
      "cell_type": "code",
      "execution_count": null,
      "metadata": {
        "id": "5sk_gLuK5MKs"
      },
      "outputs": [],
      "source": [
        "lr_model_path = '/content/drive/MyDrive/ml-datasets/saved-model/tcc_ceds_music/saved_model/logistic_regression-combined-df-v2'"
      ]
    },
    {
      "cell_type": "markdown",
      "metadata": {
        "id": "xBZdpwDwHrLH"
      },
      "source": [
        "# LR"
      ]
    },
    {
      "cell_type": "code",
      "execution_count": null,
      "metadata": {
        "colab": {
          "base_uri": "https://localhost:8080/"
        },
        "id": "2IHY6rP4HtJF",
        "outputId": "54157fcf-851d-4bad-b773-ec3fb33913f1"
      },
      "outputs": [
        {
          "output_type": "stream",
          "name": "stdout",
          "text": [
            "Training started at: 2025-03-25 19:19:15.481725\n",
            "Training ended at: 2025-03-25 19:28:31.283433\n",
            "Logistic Regression Test Accuracy: 0.35353535353535354\n"
          ]
        }
      ],
      "source": [
        "logisticRegression = LogisticRegression(featuresCol=\"features\", labelCol=\"label\")\n",
        "\n",
        "# Hyperparameter Tuning\n",
        "paramGrid = (ParamGridBuilder()\n",
        "    .addGrid(logisticRegression.regParam, [0.01, 0.1, 0.5])  # Regularization parameter\n",
        "    .addGrid(logisticRegression.maxIter, [50, 100, 200])     # Max iterations\n",
        "    .build())\n",
        "\n",
        "# Evaluator for Model Selection\n",
        "evaluator = MulticlassClassificationEvaluator(labelCol=\"label\", predictionCol=\"prediction\", metricName=\"accuracy\")\n",
        "\n",
        "# Cross Validation for Model Tuning\n",
        "crossval = CrossValidator(estimator=logisticRegression,\n",
        "                          estimatorParamMaps=paramGrid,\n",
        "                          evaluator=evaluator,\n",
        "                          numFolds=3)\n",
        "\n",
        "# Start time\n",
        "start_time = datetime.now()\n",
        "print(f\"Training started at: {start_time}\")\n",
        "\n",
        "# Train model with hyperparameter tuning\n",
        "model = crossval.fit(train_data)\n",
        "\n",
        "# End time\n",
        "end_time = datetime.now()\n",
        "print(f\"Training ended at: {end_time}\")\n",
        "\n",
        "# Evaluate the model on test data\n",
        "predictions = model.transform(test_data)\n",
        "accuracy = evaluator.evaluate(predictions)\n",
        "print(f\"Logistic Regression Test Accuracy: {accuracy}\")\n",
        "\n",
        "# Save the model\n",
        "model.bestModel.save(lr_model_path)"
      ]
    },
    {
      "cell_type": "markdown",
      "metadata": {
        "id": "B80UFywAL5CE"
      },
      "source": [
        "## LR Check Results"
      ]
    },
    {
      "cell_type": "code",
      "execution_count": null,
      "metadata": {
        "id": "jDBAA051L7u-"
      },
      "outputs": [],
      "source": [
        "from pyspark.sql.functions import col\n",
        "\n",
        "predictions = model.transform(train_data)\n",
        "\n",
        "# Filter records where prediction matches the actual label\n",
        "correct_predictions = predictions.filter(col(\"prediction\") == col(\"label\"))\n",
        "\n",
        "# Select the required columns\n",
        "correct_predictions = correct_predictions.select(\"index\", \"lyrics\", \"prediction\", \"label\")\n",
        "correct_predictions.toPandas().to_csv('./lr_correct_predictions_train.csv', index=False)"
      ]
    },
    {
      "cell_type": "code",
      "execution_count": null,
      "metadata": {
        "id": "oCWwuuQxI5K4"
      },
      "outputs": [],
      "source": [
        "from pyspark.sql.functions import col\n",
        "\n",
        "# Get predictions on train data\n",
        "predictions = model.transform(train_data)\n",
        "\n",
        "# Check if the model outputs probability (some models don't, like LinearSVC)\n",
        "if \"probability\" in predictions.columns:\n",
        "    selected_cols = [\"index\", \"track_name\", \"lyrics\", \"original_label\", \"predicted_label\", \"probability\"]\n",
        "else:\n",
        "    selected_cols = [\"index\", \"track_name\", \"lyrics\", \"original_label\", \"predicted_label\"]\n",
        "\n",
        "# Filter records where prediction matches actual label\n",
        "correct_predictions = predictions.filter(col(\"prediction\") == col(\"label\"))\n",
        "\n",
        "# Rename label column in predictions to avoid ambiguity\n",
        "correct_predictions = correct_predictions.withColumnRenamed(\"label\", \"predicted_label\")\n",
        "\n",
        "# Join original df with correct predictions based on index\n",
        "correct_original_data = df.join(correct_predictions.select(\"index\", \"predicted_label\", \"probability\") if \"probability\" in predictions.columns\n",
        "                                else correct_predictions.select(\"index\", \"predicted_label\"),\n",
        "                                on=\"index\", how=\"inner\")\n",
        "\n",
        "# Rename original label column to avoid confusion\n",
        "correct_original_data = correct_original_data.withColumnRenamed(\"label\", \"original_label\")\n",
        "\n",
        "# Select only required columns\n",
        "correct_original_data = correct_original_data.select(selected_cols)\n",
        "\n",
        "# Write to CSV\n",
        "correct_original_data.toPandas().to_csv('./lr_correct_predictions_train-new-v2.csv', index=False)"
      ]
    },
    {
      "cell_type": "markdown",
      "metadata": {
        "id": "UhVcCb4fJK_h"
      },
      "source": [
        "## LR Predict\n"
      ]
    },
    {
      "cell_type": "code",
      "execution_count": null,
      "metadata": {
        "id": "PKgdI9lt5g_p"
      },
      "outputs": [],
      "source": [
        "from pyspark.ml.tuning import CrossValidatorModel\n",
        "from pyspark.ml.classification import LogisticRegressionModel\n",
        "from pyspark.ml.feature import Word2VecModel"
      ]
    },
    {
      "cell_type": "code",
      "execution_count": null,
      "metadata": {
        "id": "U_ooKsHB53gk"
      },
      "outputs": [],
      "source": [
        "# prompt: import LogisticRegressionModel\n",
        "\n",
        "from pyspark.ml.classification import LogisticRegressionModel\n",
        "loaded_model = LogisticRegressionModel.load(lr_model_path)"
      ]
    },
    {
      "cell_type": "code",
      "execution_count": null,
      "metadata": {
        "id": "LF7uX8FgJPRw"
      },
      "outputs": [],
      "source": [
        "spark = SparkSession.builder.appName(\"MusicClassification-app\").getOrCreate()\n",
        "\n",
        "\n",
        "def preprocess_lyrics(lyrics):\n",
        "    df = spark.createDataFrame([(lyrics,)], [\"lyrics\"])\n",
        "    df = df.withColumn(\"clean_lyrics\", lower(col(\"lyrics\")))\n",
        "    df = df.withColumn(\"clean_lyrics\", regexp_replace(col(\"clean_lyrics\"), \"[^a-zA-Z\\\\s]\", \"\"))\n",
        "\n",
        "    tokenizer = Tokenizer(inputCol=\"clean_lyrics\", outputCol=\"words\")\n",
        "    df = tokenizer.transform(df)\n",
        "\n",
        "    stop_words_remover = StopWordsRemover(inputCol=\"words\", outputCol=\"filtered_words\")\n",
        "    df = stop_words_remover.transform(df)\n",
        "\n",
        "    nltk.download(\"punkt\")\n",
        "    stemmer = PorterStemmer()\n",
        "    stem_udf = udf(lambda words: [stemmer.stem(word) for word in words], ArrayType(StringType()))\n",
        "    df = df.withColumn(\"stemmed_words\", stem_udf(col(\"filtered_words\")))\n",
        "\n",
        "    word2Vec_model = Word2VecModel.load(word2vec_model_path)\n",
        "    df = word2Vec_model.transform(df)\n",
        "\n",
        "    return df\n",
        "\n",
        "# Function to predict probabilities\n",
        "def predict_lyrics(lyrics):\n",
        "    lr_model = LogisticRegressionModel.load(lr_model_path)\n",
        "    processed_df = preprocess_lyrics(lyrics)\n",
        "    predictions = lr_model.transform(processed_df)\n",
        "    probabilities = predictions.select(\"probability\").collect()[0][\"probability\"]\n",
        "    return probabilities"
      ]
    },
    {
      "cell_type": "code",
      "execution_count": null,
      "metadata": {
        "colab": {
          "base_uri": "https://localhost:8080/"
        },
        "id": "YDQsaJF1L1fF",
        "outputId": "339146e0-2560-471d-c078-f5251f9929dd"
      },
      "outputs": [
        {
          "output_type": "stream",
          "name": "stderr",
          "text": [
            "[nltk_data] Downloading package punkt to /root/nltk_data...\n",
            "[nltk_data]   Package punkt is already up-to-date!\n"
          ]
        },
        {
          "output_type": "execute_result",
          "data": {
            "text/plain": [
              "DenseVector([0.109, 0.0311, 0.0591, 0.7357, 0.0301, 0.0164, 0.0182, 0.0005])"
            ]
          },
          "metadata": {},
          "execution_count": 163
        }
      ],
      "source": [
        "song_lyr = \"scream break silence wake dead night vengence boil return kill light look listen hear bark moon years spend torment bury nameless grave rise lyric commercial\"\n",
        "pred_res = predict_lyrics(song_lyr)\n",
        "pred_res"
      ]
    },
    {
      "cell_type": "markdown",
      "source": [
        "# XG Boost"
      ],
      "metadata": {
        "id": "jzQEYoBFpc8J"
      }
    },
    {
      "cell_type": "code",
      "source": [
        "from xgboost.spark import SparkXGBClassifier"
      ],
      "metadata": {
        "id": "UXkrtdYdt3Nt"
      },
      "execution_count": null,
      "outputs": []
    },
    {
      "cell_type": "code",
      "source": [
        "from pyspark.ml.tuning import ParamGridBuilder, CrossValidator\n",
        "from pyspark.ml.evaluation import MulticlassClassificationEvaluator\n",
        "from xgboost.spark import SparkXGBClassifier\n",
        "\n",
        "# Define the XGBoost classifier\n",
        "xgb_classifier = SparkXGBClassifier(\n",
        "    features_col=\"features\",\n",
        "    label_col=\"label\",\n",
        "    num_classes=8,\n",
        "    max_depth=6,\n",
        "    eta=0.1,\n",
        "    num_round=100\n",
        ")\n",
        "\n",
        "# Define hyperparameter grid\n",
        "paramGrid = (ParamGridBuilder()\n",
        "    .addGrid(xgb_classifier.max_depth, [3, 6, 9])  # Tree depth\n",
        "    .addGrid(xgb_classifier.learning_rate, [0.01, 0.1, 0.3])  # Learning rate\n",
        "    .addGrid(xgb_classifier.n_estimators, [50, 100, 200])  # Boosting rounds\n",
        "    .build())\n",
        "\n",
        "# Define evaluator\n",
        "evaluator = MulticlassClassificationEvaluator(\n",
        "    labelCol=\"label\", predictionCol=\"prediction\", metricName=\"accuracy\"\n",
        ")\n",
        "\n",
        "# Define Cross Validator\n",
        "crossval = CrossValidator(\n",
        "    estimator=xgb_classifier,\n",
        "    estimatorParamMaps=paramGrid,\n",
        "    evaluator=evaluator,\n",
        "    numFolds=3  # 3-fold cross-validation\n",
        ")\n",
        "\n",
        "# Train model with hyperparameter tuning\n",
        "cv_model = crossval.fit(train_data)\n",
        "\n",
        "# Best model after tuning\n",
        "best_model = cv_model.bestModel\n",
        "\n",
        "# Make predictions\n",
        "predictions = best_model.transform(test_data)\n",
        "\n",
        "# Define the evaluator for multi-class classification\n",
        "evaluator = MulticlassClassificationEvaluator(labelCol=\"label\", predictionCol=\"prediction\", metricName=\"accuracy\")\n",
        "\n",
        "# Calculate accuracy\n",
        "accuracy = evaluator.evaluate(predictions)\n",
        "print(f\"XGBoost Model Accuracy: {accuracy}\")"
      ],
      "metadata": {
        "colab": {
          "base_uri": "https://localhost:8080/"
        },
        "id": "7ccjxGhq5dM5",
        "outputId": "fc54edd6-5e06-4d53-bfbe-737107dec3b2"
      },
      "execution_count": null,
      "outputs": [
        {
          "output_type": "stream",
          "name": "stderr",
          "text": [
            "INFO:XGBoost-PySpark:Running xgboost-2.1.4 on 1 workers with\n",
            "\tbooster params: {'device': 'cpu', 'learning_rate': 0.01, 'max_depth': 3, 'objective': 'multi:softprob', 'num_classes': 8, 'eta': 0.1, 'num_round': 100, 'num_class': 8, 'nthread': 1}\n",
            "\ttrain_call_kwargs_params: {'verbose_eval': True, 'num_boost_round': 50}\n",
            "\tdmatrix_kwargs: {'nthread': 1, 'missing': nan}\n",
            "INFO:XGBoost-PySpark:Finished xgboost training!\n",
            "INFO:XGBoost-PySpark:Running xgboost-2.1.4 on 1 workers with\n",
            "\tbooster params: {'device': 'cpu', 'learning_rate': 0.01, 'max_depth': 3, 'objective': 'multi:softprob', 'num_classes': 8, 'eta': 0.1, 'num_round': 100, 'num_class': 8, 'nthread': 1}\n",
            "\ttrain_call_kwargs_params: {'verbose_eval': True, 'num_boost_round': 100}\n",
            "\tdmatrix_kwargs: {'nthread': 1, 'missing': nan}\n",
            "INFO:XGBoost-PySpark:Finished xgboost training!\n",
            "INFO:XGBoost-PySpark:Running xgboost-2.1.4 on 1 workers with\n",
            "\tbooster params: {'device': 'cpu', 'learning_rate': 0.01, 'max_depth': 3, 'objective': 'multi:softprob', 'num_classes': 8, 'eta': 0.1, 'num_round': 100, 'num_class': 8, 'nthread': 1}\n",
            "\ttrain_call_kwargs_params: {'verbose_eval': True, 'num_boost_round': 200}\n",
            "\tdmatrix_kwargs: {'nthread': 1, 'missing': nan}\n",
            "INFO:XGBoost-PySpark:Finished xgboost training!\n",
            "INFO:XGBoost-PySpark:Running xgboost-2.1.4 on 1 workers with\n",
            "\tbooster params: {'device': 'cpu', 'learning_rate': 0.1, 'max_depth': 3, 'objective': 'multi:softprob', 'num_classes': 8, 'eta': 0.1, 'num_round': 100, 'num_class': 8, 'nthread': 1}\n",
            "\ttrain_call_kwargs_params: {'verbose_eval': True, 'num_boost_round': 50}\n",
            "\tdmatrix_kwargs: {'nthread': 1, 'missing': nan}\n",
            "INFO:XGBoost-PySpark:Finished xgboost training!\n",
            "INFO:XGBoost-PySpark:Running xgboost-2.1.4 on 1 workers with\n",
            "\tbooster params: {'device': 'cpu', 'learning_rate': 0.1, 'max_depth': 3, 'objective': 'multi:softprob', 'num_classes': 8, 'eta': 0.1, 'num_round': 100, 'num_class': 8, 'nthread': 1}\n",
            "\ttrain_call_kwargs_params: {'verbose_eval': True, 'num_boost_round': 100}\n",
            "\tdmatrix_kwargs: {'nthread': 1, 'missing': nan}\n",
            "INFO:XGBoost-PySpark:Finished xgboost training!\n",
            "INFO:XGBoost-PySpark:Running xgboost-2.1.4 on 1 workers with\n",
            "\tbooster params: {'device': 'cpu', 'learning_rate': 0.1, 'max_depth': 3, 'objective': 'multi:softprob', 'num_classes': 8, 'eta': 0.1, 'num_round': 100, 'num_class': 8, 'nthread': 1}\n",
            "\ttrain_call_kwargs_params: {'verbose_eval': True, 'num_boost_round': 200}\n",
            "\tdmatrix_kwargs: {'nthread': 1, 'missing': nan}\n",
            "INFO:XGBoost-PySpark:Finished xgboost training!\n",
            "INFO:XGBoost-PySpark:Running xgboost-2.1.4 on 1 workers with\n",
            "\tbooster params: {'device': 'cpu', 'learning_rate': 0.3, 'max_depth': 3, 'objective': 'multi:softprob', 'num_classes': 8, 'eta': 0.1, 'num_round': 100, 'num_class': 8, 'nthread': 1}\n",
            "\ttrain_call_kwargs_params: {'verbose_eval': True, 'num_boost_round': 50}\n",
            "\tdmatrix_kwargs: {'nthread': 1, 'missing': nan}\n",
            "INFO:XGBoost-PySpark:Finished xgboost training!\n",
            "INFO:XGBoost-PySpark:Running xgboost-2.1.4 on 1 workers with\n",
            "\tbooster params: {'device': 'cpu', 'learning_rate': 0.3, 'max_depth': 3, 'objective': 'multi:softprob', 'num_classes': 8, 'eta': 0.1, 'num_round': 100, 'num_class': 8, 'nthread': 1}\n",
            "\ttrain_call_kwargs_params: {'verbose_eval': True, 'num_boost_round': 100}\n",
            "\tdmatrix_kwargs: {'nthread': 1, 'missing': nan}\n",
            "INFO:XGBoost-PySpark:Finished xgboost training!\n",
            "INFO:XGBoost-PySpark:Running xgboost-2.1.4 on 1 workers with\n",
            "\tbooster params: {'device': 'cpu', 'learning_rate': 0.3, 'max_depth': 3, 'objective': 'multi:softprob', 'num_classes': 8, 'eta': 0.1, 'num_round': 100, 'num_class': 8, 'nthread': 1}\n",
            "\ttrain_call_kwargs_params: {'verbose_eval': True, 'num_boost_round': 200}\n",
            "\tdmatrix_kwargs: {'nthread': 1, 'missing': nan}\n",
            "INFO:XGBoost-PySpark:Finished xgboost training!\n",
            "INFO:XGBoost-PySpark:Running xgboost-2.1.4 on 1 workers with\n",
            "\tbooster params: {'device': 'cpu', 'learning_rate': 0.01, 'max_depth': 6, 'objective': 'multi:softprob', 'num_classes': 8, 'eta': 0.1, 'num_round': 100, 'num_class': 8, 'nthread': 1}\n",
            "\ttrain_call_kwargs_params: {'verbose_eval': True, 'num_boost_round': 50}\n",
            "\tdmatrix_kwargs: {'nthread': 1, 'missing': nan}\n",
            "INFO:XGBoost-PySpark:Finished xgboost training!\n",
            "INFO:XGBoost-PySpark:Running xgboost-2.1.4 on 1 workers with\n",
            "\tbooster params: {'device': 'cpu', 'learning_rate': 0.01, 'max_depth': 6, 'objective': 'multi:softprob', 'num_classes': 8, 'eta': 0.1, 'num_round': 100, 'num_class': 8, 'nthread': 1}\n",
            "\ttrain_call_kwargs_params: {'verbose_eval': True, 'num_boost_round': 100}\n",
            "\tdmatrix_kwargs: {'nthread': 1, 'missing': nan}\n",
            "INFO:XGBoost-PySpark:Finished xgboost training!\n",
            "INFO:XGBoost-PySpark:Running xgboost-2.1.4 on 1 workers with\n",
            "\tbooster params: {'device': 'cpu', 'learning_rate': 0.01, 'max_depth': 6, 'objective': 'multi:softprob', 'num_classes': 8, 'eta': 0.1, 'num_round': 100, 'num_class': 8, 'nthread': 1}\n",
            "\ttrain_call_kwargs_params: {'verbose_eval': True, 'num_boost_round': 200}\n",
            "\tdmatrix_kwargs: {'nthread': 1, 'missing': nan}\n",
            "INFO:XGBoost-PySpark:Finished xgboost training!\n",
            "INFO:XGBoost-PySpark:Running xgboost-2.1.4 on 1 workers with\n",
            "\tbooster params: {'device': 'cpu', 'learning_rate': 0.1, 'max_depth': 6, 'objective': 'multi:softprob', 'num_classes': 8, 'eta': 0.1, 'num_round': 100, 'num_class': 8, 'nthread': 1}\n",
            "\ttrain_call_kwargs_params: {'verbose_eval': True, 'num_boost_round': 50}\n",
            "\tdmatrix_kwargs: {'nthread': 1, 'missing': nan}\n",
            "INFO:XGBoost-PySpark:Finished xgboost training!\n",
            "INFO:XGBoost-PySpark:Running xgboost-2.1.4 on 1 workers with\n",
            "\tbooster params: {'device': 'cpu', 'learning_rate': 0.1, 'max_depth': 6, 'objective': 'multi:softprob', 'num_classes': 8, 'eta': 0.1, 'num_round': 100, 'num_class': 8, 'nthread': 1}\n",
            "\ttrain_call_kwargs_params: {'verbose_eval': True, 'num_boost_round': 100}\n",
            "\tdmatrix_kwargs: {'nthread': 1, 'missing': nan}\n",
            "INFO:XGBoost-PySpark:Finished xgboost training!\n",
            "INFO:XGBoost-PySpark:Running xgboost-2.1.4 on 1 workers with\n",
            "\tbooster params: {'device': 'cpu', 'learning_rate': 0.1, 'max_depth': 6, 'objective': 'multi:softprob', 'num_classes': 8, 'eta': 0.1, 'num_round': 100, 'num_class': 8, 'nthread': 1}\n",
            "\ttrain_call_kwargs_params: {'verbose_eval': True, 'num_boost_round': 200}\n",
            "\tdmatrix_kwargs: {'nthread': 1, 'missing': nan}\n",
            "INFO:XGBoost-PySpark:Finished xgboost training!\n",
            "INFO:XGBoost-PySpark:Running xgboost-2.1.4 on 1 workers with\n",
            "\tbooster params: {'device': 'cpu', 'learning_rate': 0.3, 'max_depth': 6, 'objective': 'multi:softprob', 'num_classes': 8, 'eta': 0.1, 'num_round': 100, 'num_class': 8, 'nthread': 1}\n",
            "\ttrain_call_kwargs_params: {'verbose_eval': True, 'num_boost_round': 50}\n",
            "\tdmatrix_kwargs: {'nthread': 1, 'missing': nan}\n",
            "INFO:XGBoost-PySpark:Finished xgboost training!\n",
            "INFO:XGBoost-PySpark:Running xgboost-2.1.4 on 1 workers with\n",
            "\tbooster params: {'device': 'cpu', 'learning_rate': 0.3, 'max_depth': 6, 'objective': 'multi:softprob', 'num_classes': 8, 'eta': 0.1, 'num_round': 100, 'num_class': 8, 'nthread': 1}\n",
            "\ttrain_call_kwargs_params: {'verbose_eval': True, 'num_boost_round': 100}\n",
            "\tdmatrix_kwargs: {'nthread': 1, 'missing': nan}\n",
            "INFO:XGBoost-PySpark:Finished xgboost training!\n",
            "INFO:XGBoost-PySpark:Running xgboost-2.1.4 on 1 workers with\n",
            "\tbooster params: {'device': 'cpu', 'learning_rate': 0.3, 'max_depth': 6, 'objective': 'multi:softprob', 'num_classes': 8, 'eta': 0.1, 'num_round': 100, 'num_class': 8, 'nthread': 1}\n",
            "\ttrain_call_kwargs_params: {'verbose_eval': True, 'num_boost_round': 200}\n",
            "\tdmatrix_kwargs: {'nthread': 1, 'missing': nan}\n",
            "INFO:XGBoost-PySpark:Finished xgboost training!\n",
            "INFO:XGBoost-PySpark:Running xgboost-2.1.4 on 1 workers with\n",
            "\tbooster params: {'device': 'cpu', 'learning_rate': 0.01, 'max_depth': 9, 'objective': 'multi:softprob', 'num_classes': 8, 'eta': 0.1, 'num_round': 100, 'num_class': 8, 'nthread': 1}\n",
            "\ttrain_call_kwargs_params: {'verbose_eval': True, 'num_boost_round': 50}\n",
            "\tdmatrix_kwargs: {'nthread': 1, 'missing': nan}\n",
            "INFO:XGBoost-PySpark:Finished xgboost training!\n",
            "INFO:XGBoost-PySpark:Running xgboost-2.1.4 on 1 workers with\n",
            "\tbooster params: {'device': 'cpu', 'learning_rate': 0.01, 'max_depth': 9, 'objective': 'multi:softprob', 'num_classes': 8, 'eta': 0.1, 'num_round': 100, 'num_class': 8, 'nthread': 1}\n",
            "\ttrain_call_kwargs_params: {'verbose_eval': True, 'num_boost_round': 100}\n",
            "\tdmatrix_kwargs: {'nthread': 1, 'missing': nan}\n",
            "INFO:XGBoost-PySpark:Finished xgboost training!\n",
            "INFO:XGBoost-PySpark:Running xgboost-2.1.4 on 1 workers with\n",
            "\tbooster params: {'device': 'cpu', 'learning_rate': 0.01, 'max_depth': 9, 'objective': 'multi:softprob', 'num_classes': 8, 'eta': 0.1, 'num_round': 100, 'num_class': 8, 'nthread': 1}\n",
            "\ttrain_call_kwargs_params: {'verbose_eval': True, 'num_boost_round': 200}\n",
            "\tdmatrix_kwargs: {'nthread': 1, 'missing': nan}\n",
            "INFO:XGBoost-PySpark:Finished xgboost training!\n",
            "INFO:XGBoost-PySpark:Running xgboost-2.1.4 on 1 workers with\n",
            "\tbooster params: {'device': 'cpu', 'learning_rate': 0.1, 'max_depth': 9, 'objective': 'multi:softprob', 'num_classes': 8, 'eta': 0.1, 'num_round': 100, 'num_class': 8, 'nthread': 1}\n",
            "\ttrain_call_kwargs_params: {'verbose_eval': True, 'num_boost_round': 50}\n",
            "\tdmatrix_kwargs: {'nthread': 1, 'missing': nan}\n",
            "INFO:XGBoost-PySpark:Finished xgboost training!\n",
            "INFO:XGBoost-PySpark:Running xgboost-2.1.4 on 1 workers with\n",
            "\tbooster params: {'device': 'cpu', 'learning_rate': 0.1, 'max_depth': 9, 'objective': 'multi:softprob', 'num_classes': 8, 'eta': 0.1, 'num_round': 100, 'num_class': 8, 'nthread': 1}\n",
            "\ttrain_call_kwargs_params: {'verbose_eval': True, 'num_boost_round': 100}\n",
            "\tdmatrix_kwargs: {'nthread': 1, 'missing': nan}\n",
            "INFO:XGBoost-PySpark:Finished xgboost training!\n",
            "INFO:XGBoost-PySpark:Running xgboost-2.1.4 on 1 workers with\n",
            "\tbooster params: {'device': 'cpu', 'learning_rate': 0.1, 'max_depth': 9, 'objective': 'multi:softprob', 'num_classes': 8, 'eta': 0.1, 'num_round': 100, 'num_class': 8, 'nthread': 1}\n",
            "\ttrain_call_kwargs_params: {'verbose_eval': True, 'num_boost_round': 200}\n",
            "\tdmatrix_kwargs: {'nthread': 1, 'missing': nan}\n",
            "INFO:XGBoost-PySpark:Finished xgboost training!\n",
            "INFO:XGBoost-PySpark:Running xgboost-2.1.4 on 1 workers with\n",
            "\tbooster params: {'device': 'cpu', 'learning_rate': 0.3, 'max_depth': 9, 'objective': 'multi:softprob', 'num_classes': 8, 'eta': 0.1, 'num_round': 100, 'num_class': 8, 'nthread': 1}\n",
            "\ttrain_call_kwargs_params: {'verbose_eval': True, 'num_boost_round': 50}\n",
            "\tdmatrix_kwargs: {'nthread': 1, 'missing': nan}\n",
            "INFO:XGBoost-PySpark:Finished xgboost training!\n",
            "INFO:XGBoost-PySpark:Running xgboost-2.1.4 on 1 workers with\n",
            "\tbooster params: {'device': 'cpu', 'learning_rate': 0.3, 'max_depth': 9, 'objective': 'multi:softprob', 'num_classes': 8, 'eta': 0.1, 'num_round': 100, 'num_class': 8, 'nthread': 1}\n",
            "\ttrain_call_kwargs_params: {'verbose_eval': True, 'num_boost_round': 100}\n",
            "\tdmatrix_kwargs: {'nthread': 1, 'missing': nan}\n",
            "INFO:XGBoost-PySpark:Finished xgboost training!\n",
            "INFO:XGBoost-PySpark:Running xgboost-2.1.4 on 1 workers with\n",
            "\tbooster params: {'device': 'cpu', 'learning_rate': 0.3, 'max_depth': 9, 'objective': 'multi:softprob', 'num_classes': 8, 'eta': 0.1, 'num_round': 100, 'num_class': 8, 'nthread': 1}\n",
            "\ttrain_call_kwargs_params: {'verbose_eval': True, 'num_boost_round': 200}\n",
            "\tdmatrix_kwargs: {'nthread': 1, 'missing': nan}\n",
            "INFO:XGBoost-PySpark:Finished xgboost training!\n",
            "INFO:XGBoost-PySpark:Running xgboost-2.1.4 on 1 workers with\n",
            "\tbooster params: {'device': 'cpu', 'learning_rate': 0.01, 'max_depth': 3, 'objective': 'multi:softprob', 'num_classes': 8, 'eta': 0.1, 'num_round': 100, 'num_class': 8, 'nthread': 1}\n",
            "\ttrain_call_kwargs_params: {'verbose_eval': True, 'num_boost_round': 50}\n",
            "\tdmatrix_kwargs: {'nthread': 1, 'missing': nan}\n",
            "INFO:XGBoost-PySpark:Finished xgboost training!\n",
            "INFO:XGBoost-PySpark:Running xgboost-2.1.4 on 1 workers with\n",
            "\tbooster params: {'device': 'cpu', 'learning_rate': 0.01, 'max_depth': 3, 'objective': 'multi:softprob', 'num_classes': 8, 'eta': 0.1, 'num_round': 100, 'num_class': 8, 'nthread': 1}\n",
            "\ttrain_call_kwargs_params: {'verbose_eval': True, 'num_boost_round': 100}\n",
            "\tdmatrix_kwargs: {'nthread': 1, 'missing': nan}\n",
            "INFO:XGBoost-PySpark:Finished xgboost training!\n",
            "INFO:XGBoost-PySpark:Running xgboost-2.1.4 on 1 workers with\n",
            "\tbooster params: {'device': 'cpu', 'learning_rate': 0.01, 'max_depth': 3, 'objective': 'multi:softprob', 'num_classes': 8, 'eta': 0.1, 'num_round': 100, 'num_class': 8, 'nthread': 1}\n",
            "\ttrain_call_kwargs_params: {'verbose_eval': True, 'num_boost_round': 200}\n",
            "\tdmatrix_kwargs: {'nthread': 1, 'missing': nan}\n",
            "INFO:XGBoost-PySpark:Finished xgboost training!\n",
            "INFO:XGBoost-PySpark:Running xgboost-2.1.4 on 1 workers with\n",
            "\tbooster params: {'device': 'cpu', 'learning_rate': 0.1, 'max_depth': 3, 'objective': 'multi:softprob', 'num_classes': 8, 'eta': 0.1, 'num_round': 100, 'num_class': 8, 'nthread': 1}\n",
            "\ttrain_call_kwargs_params: {'verbose_eval': True, 'num_boost_round': 50}\n",
            "\tdmatrix_kwargs: {'nthread': 1, 'missing': nan}\n",
            "INFO:XGBoost-PySpark:Finished xgboost training!\n",
            "INFO:XGBoost-PySpark:Running xgboost-2.1.4 on 1 workers with\n",
            "\tbooster params: {'device': 'cpu', 'learning_rate': 0.1, 'max_depth': 3, 'objective': 'multi:softprob', 'num_classes': 8, 'eta': 0.1, 'num_round': 100, 'num_class': 8, 'nthread': 1}\n",
            "\ttrain_call_kwargs_params: {'verbose_eval': True, 'num_boost_round': 100}\n",
            "\tdmatrix_kwargs: {'nthread': 1, 'missing': nan}\n",
            "INFO:XGBoost-PySpark:Finished xgboost training!\n",
            "INFO:XGBoost-PySpark:Running xgboost-2.1.4 on 1 workers with\n",
            "\tbooster params: {'device': 'cpu', 'learning_rate': 0.1, 'max_depth': 3, 'objective': 'multi:softprob', 'num_classes': 8, 'eta': 0.1, 'num_round': 100, 'num_class': 8, 'nthread': 1}\n",
            "\ttrain_call_kwargs_params: {'verbose_eval': True, 'num_boost_round': 200}\n",
            "\tdmatrix_kwargs: {'nthread': 1, 'missing': nan}\n",
            "INFO:XGBoost-PySpark:Finished xgboost training!\n",
            "INFO:XGBoost-PySpark:Running xgboost-2.1.4 on 1 workers with\n",
            "\tbooster params: {'device': 'cpu', 'learning_rate': 0.3, 'max_depth': 3, 'objective': 'multi:softprob', 'num_classes': 8, 'eta': 0.1, 'num_round': 100, 'num_class': 8, 'nthread': 1}\n",
            "\ttrain_call_kwargs_params: {'verbose_eval': True, 'num_boost_round': 50}\n",
            "\tdmatrix_kwargs: {'nthread': 1, 'missing': nan}\n",
            "INFO:XGBoost-PySpark:Finished xgboost training!\n",
            "INFO:XGBoost-PySpark:Running xgboost-2.1.4 on 1 workers with\n",
            "\tbooster params: {'device': 'cpu', 'learning_rate': 0.3, 'max_depth': 3, 'objective': 'multi:softprob', 'num_classes': 8, 'eta': 0.1, 'num_round': 100, 'num_class': 8, 'nthread': 1}\n",
            "\ttrain_call_kwargs_params: {'verbose_eval': True, 'num_boost_round': 100}\n",
            "\tdmatrix_kwargs: {'nthread': 1, 'missing': nan}\n",
            "INFO:XGBoost-PySpark:Finished xgboost training!\n",
            "INFO:XGBoost-PySpark:Running xgboost-2.1.4 on 1 workers with\n",
            "\tbooster params: {'device': 'cpu', 'learning_rate': 0.3, 'max_depth': 3, 'objective': 'multi:softprob', 'num_classes': 8, 'eta': 0.1, 'num_round': 100, 'num_class': 8, 'nthread': 1}\n",
            "\ttrain_call_kwargs_params: {'verbose_eval': True, 'num_boost_round': 200}\n",
            "\tdmatrix_kwargs: {'nthread': 1, 'missing': nan}\n",
            "INFO:XGBoost-PySpark:Finished xgboost training!\n",
            "INFO:XGBoost-PySpark:Running xgboost-2.1.4 on 1 workers with\n",
            "\tbooster params: {'device': 'cpu', 'learning_rate': 0.01, 'max_depth': 6, 'objective': 'multi:softprob', 'num_classes': 8, 'eta': 0.1, 'num_round': 100, 'num_class': 8, 'nthread': 1}\n",
            "\ttrain_call_kwargs_params: {'verbose_eval': True, 'num_boost_round': 50}\n",
            "\tdmatrix_kwargs: {'nthread': 1, 'missing': nan}\n",
            "INFO:XGBoost-PySpark:Finished xgboost training!\n",
            "INFO:XGBoost-PySpark:Running xgboost-2.1.4 on 1 workers with\n",
            "\tbooster params: {'device': 'cpu', 'learning_rate': 0.01, 'max_depth': 6, 'objective': 'multi:softprob', 'num_classes': 8, 'eta': 0.1, 'num_round': 100, 'num_class': 8, 'nthread': 1}\n",
            "\ttrain_call_kwargs_params: {'verbose_eval': True, 'num_boost_round': 100}\n",
            "\tdmatrix_kwargs: {'nthread': 1, 'missing': nan}\n",
            "INFO:XGBoost-PySpark:Finished xgboost training!\n",
            "INFO:XGBoost-PySpark:Running xgboost-2.1.4 on 1 workers with\n",
            "\tbooster params: {'device': 'cpu', 'learning_rate': 0.01, 'max_depth': 6, 'objective': 'multi:softprob', 'num_classes': 8, 'eta': 0.1, 'num_round': 100, 'num_class': 8, 'nthread': 1}\n",
            "\ttrain_call_kwargs_params: {'verbose_eval': True, 'num_boost_round': 200}\n",
            "\tdmatrix_kwargs: {'nthread': 1, 'missing': nan}\n",
            "INFO:XGBoost-PySpark:Finished xgboost training!\n",
            "INFO:XGBoost-PySpark:Running xgboost-2.1.4 on 1 workers with\n",
            "\tbooster params: {'device': 'cpu', 'learning_rate': 0.1, 'max_depth': 6, 'objective': 'multi:softprob', 'num_classes': 8, 'eta': 0.1, 'num_round': 100, 'num_class': 8, 'nthread': 1}\n",
            "\ttrain_call_kwargs_params: {'verbose_eval': True, 'num_boost_round': 50}\n",
            "\tdmatrix_kwargs: {'nthread': 1, 'missing': nan}\n",
            "INFO:XGBoost-PySpark:Finished xgboost training!\n",
            "INFO:XGBoost-PySpark:Running xgboost-2.1.4 on 1 workers with\n",
            "\tbooster params: {'device': 'cpu', 'learning_rate': 0.1, 'max_depth': 6, 'objective': 'multi:softprob', 'num_classes': 8, 'eta': 0.1, 'num_round': 100, 'num_class': 8, 'nthread': 1}\n",
            "\ttrain_call_kwargs_params: {'verbose_eval': True, 'num_boost_round': 100}\n",
            "\tdmatrix_kwargs: {'nthread': 1, 'missing': nan}\n",
            "INFO:XGBoost-PySpark:Finished xgboost training!\n",
            "INFO:XGBoost-PySpark:Running xgboost-2.1.4 on 1 workers with\n",
            "\tbooster params: {'device': 'cpu', 'learning_rate': 0.1, 'max_depth': 6, 'objective': 'multi:softprob', 'num_classes': 8, 'eta': 0.1, 'num_round': 100, 'num_class': 8, 'nthread': 1}\n",
            "\ttrain_call_kwargs_params: {'verbose_eval': True, 'num_boost_round': 200}\n",
            "\tdmatrix_kwargs: {'nthread': 1, 'missing': nan}\n",
            "INFO:XGBoost-PySpark:Finished xgboost training!\n",
            "INFO:XGBoost-PySpark:Running xgboost-2.1.4 on 1 workers with\n",
            "\tbooster params: {'device': 'cpu', 'learning_rate': 0.3, 'max_depth': 6, 'objective': 'multi:softprob', 'num_classes': 8, 'eta': 0.1, 'num_round': 100, 'num_class': 8, 'nthread': 1}\n",
            "\ttrain_call_kwargs_params: {'verbose_eval': True, 'num_boost_round': 50}\n",
            "\tdmatrix_kwargs: {'nthread': 1, 'missing': nan}\n",
            "INFO:XGBoost-PySpark:Finished xgboost training!\n",
            "INFO:XGBoost-PySpark:Running xgboost-2.1.4 on 1 workers with\n",
            "\tbooster params: {'device': 'cpu', 'learning_rate': 0.3, 'max_depth': 6, 'objective': 'multi:softprob', 'num_classes': 8, 'eta': 0.1, 'num_round': 100, 'num_class': 8, 'nthread': 1}\n",
            "\ttrain_call_kwargs_params: {'verbose_eval': True, 'num_boost_round': 100}\n",
            "\tdmatrix_kwargs: {'nthread': 1, 'missing': nan}\n",
            "INFO:XGBoost-PySpark:Finished xgboost training!\n",
            "INFO:XGBoost-PySpark:Running xgboost-2.1.4 on 1 workers with\n",
            "\tbooster params: {'device': 'cpu', 'learning_rate': 0.3, 'max_depth': 6, 'objective': 'multi:softprob', 'num_classes': 8, 'eta': 0.1, 'num_round': 100, 'num_class': 8, 'nthread': 1}\n",
            "\ttrain_call_kwargs_params: {'verbose_eval': True, 'num_boost_round': 200}\n",
            "\tdmatrix_kwargs: {'nthread': 1, 'missing': nan}\n",
            "INFO:XGBoost-PySpark:Finished xgboost training!\n",
            "INFO:XGBoost-PySpark:Running xgboost-2.1.4 on 1 workers with\n",
            "\tbooster params: {'device': 'cpu', 'learning_rate': 0.01, 'max_depth': 9, 'objective': 'multi:softprob', 'num_classes': 8, 'eta': 0.1, 'num_round': 100, 'num_class': 8, 'nthread': 1}\n",
            "\ttrain_call_kwargs_params: {'verbose_eval': True, 'num_boost_round': 50}\n",
            "\tdmatrix_kwargs: {'nthread': 1, 'missing': nan}\n",
            "INFO:XGBoost-PySpark:Finished xgboost training!\n",
            "INFO:XGBoost-PySpark:Running xgboost-2.1.4 on 1 workers with\n",
            "\tbooster params: {'device': 'cpu', 'learning_rate': 0.01, 'max_depth': 9, 'objective': 'multi:softprob', 'num_classes': 8, 'eta': 0.1, 'num_round': 100, 'num_class': 8, 'nthread': 1}\n",
            "\ttrain_call_kwargs_params: {'verbose_eval': True, 'num_boost_round': 100}\n",
            "\tdmatrix_kwargs: {'nthread': 1, 'missing': nan}\n",
            "INFO:XGBoost-PySpark:Finished xgboost training!\n",
            "INFO:XGBoost-PySpark:Running xgboost-2.1.4 on 1 workers with\n",
            "\tbooster params: {'device': 'cpu', 'learning_rate': 0.01, 'max_depth': 9, 'objective': 'multi:softprob', 'num_classes': 8, 'eta': 0.1, 'num_round': 100, 'num_class': 8, 'nthread': 1}\n",
            "\ttrain_call_kwargs_params: {'verbose_eval': True, 'num_boost_round': 200}\n",
            "\tdmatrix_kwargs: {'nthread': 1, 'missing': nan}\n",
            "INFO:XGBoost-PySpark:Finished xgboost training!\n",
            "INFO:XGBoost-PySpark:Running xgboost-2.1.4 on 1 workers with\n",
            "\tbooster params: {'device': 'cpu', 'learning_rate': 0.1, 'max_depth': 9, 'objective': 'multi:softprob', 'num_classes': 8, 'eta': 0.1, 'num_round': 100, 'num_class': 8, 'nthread': 1}\n",
            "\ttrain_call_kwargs_params: {'verbose_eval': True, 'num_boost_round': 50}\n",
            "\tdmatrix_kwargs: {'nthread': 1, 'missing': nan}\n",
            "INFO:XGBoost-PySpark:Finished xgboost training!\n",
            "INFO:XGBoost-PySpark:Running xgboost-2.1.4 on 1 workers with\n",
            "\tbooster params: {'device': 'cpu', 'learning_rate': 0.1, 'max_depth': 9, 'objective': 'multi:softprob', 'num_classes': 8, 'eta': 0.1, 'num_round': 100, 'num_class': 8, 'nthread': 1}\n",
            "\ttrain_call_kwargs_params: {'verbose_eval': True, 'num_boost_round': 100}\n",
            "\tdmatrix_kwargs: {'nthread': 1, 'missing': nan}\n",
            "INFO:XGBoost-PySpark:Finished xgboost training!\n",
            "INFO:XGBoost-PySpark:Running xgboost-2.1.4 on 1 workers with\n",
            "\tbooster params: {'device': 'cpu', 'learning_rate': 0.1, 'max_depth': 9, 'objective': 'multi:softprob', 'num_classes': 8, 'eta': 0.1, 'num_round': 100, 'num_class': 8, 'nthread': 1}\n",
            "\ttrain_call_kwargs_params: {'verbose_eval': True, 'num_boost_round': 200}\n",
            "\tdmatrix_kwargs: {'nthread': 1, 'missing': nan}\n",
            "INFO:XGBoost-PySpark:Finished xgboost training!\n",
            "INFO:XGBoost-PySpark:Running xgboost-2.1.4 on 1 workers with\n",
            "\tbooster params: {'device': 'cpu', 'learning_rate': 0.3, 'max_depth': 9, 'objective': 'multi:softprob', 'num_classes': 8, 'eta': 0.1, 'num_round': 100, 'num_class': 8, 'nthread': 1}\n",
            "\ttrain_call_kwargs_params: {'verbose_eval': True, 'num_boost_round': 50}\n",
            "\tdmatrix_kwargs: {'nthread': 1, 'missing': nan}\n",
            "INFO:XGBoost-PySpark:Finished xgboost training!\n",
            "INFO:XGBoost-PySpark:Running xgboost-2.1.4 on 1 workers with\n",
            "\tbooster params: {'device': 'cpu', 'learning_rate': 0.3, 'max_depth': 9, 'objective': 'multi:softprob', 'num_classes': 8, 'eta': 0.1, 'num_round': 100, 'num_class': 8, 'nthread': 1}\n",
            "\ttrain_call_kwargs_params: {'verbose_eval': True, 'num_boost_round': 100}\n",
            "\tdmatrix_kwargs: {'nthread': 1, 'missing': nan}\n",
            "INFO:XGBoost-PySpark:Finished xgboost training!\n",
            "INFO:XGBoost-PySpark:Running xgboost-2.1.4 on 1 workers with\n",
            "\tbooster params: {'device': 'cpu', 'learning_rate': 0.3, 'max_depth': 9, 'objective': 'multi:softprob', 'num_classes': 8, 'eta': 0.1, 'num_round': 100, 'num_class': 8, 'nthread': 1}\n",
            "\ttrain_call_kwargs_params: {'verbose_eval': True, 'num_boost_round': 200}\n",
            "\tdmatrix_kwargs: {'nthread': 1, 'missing': nan}\n",
            "INFO:XGBoost-PySpark:Finished xgboost training!\n",
            "INFO:XGBoost-PySpark:Running xgboost-2.1.4 on 1 workers with\n",
            "\tbooster params: {'device': 'cpu', 'learning_rate': 0.01, 'max_depth': 3, 'objective': 'multi:softprob', 'num_classes': 8, 'eta': 0.1, 'num_round': 100, 'num_class': 8, 'nthread': 1}\n",
            "\ttrain_call_kwargs_params: {'verbose_eval': True, 'num_boost_round': 50}\n",
            "\tdmatrix_kwargs: {'nthread': 1, 'missing': nan}\n",
            "INFO:XGBoost-PySpark:Finished xgboost training!\n",
            "INFO:XGBoost-PySpark:Running xgboost-2.1.4 on 1 workers with\n",
            "\tbooster params: {'device': 'cpu', 'learning_rate': 0.01, 'max_depth': 3, 'objective': 'multi:softprob', 'num_classes': 8, 'eta': 0.1, 'num_round': 100, 'num_class': 8, 'nthread': 1}\n",
            "\ttrain_call_kwargs_params: {'verbose_eval': True, 'num_boost_round': 100}\n",
            "\tdmatrix_kwargs: {'nthread': 1, 'missing': nan}\n",
            "INFO:XGBoost-PySpark:Finished xgboost training!\n",
            "INFO:XGBoost-PySpark:Running xgboost-2.1.4 on 1 workers with\n",
            "\tbooster params: {'device': 'cpu', 'learning_rate': 0.01, 'max_depth': 3, 'objective': 'multi:softprob', 'num_classes': 8, 'eta': 0.1, 'num_round': 100, 'num_class': 8, 'nthread': 1}\n",
            "\ttrain_call_kwargs_params: {'verbose_eval': True, 'num_boost_round': 200}\n",
            "\tdmatrix_kwargs: {'nthread': 1, 'missing': nan}\n",
            "INFO:XGBoost-PySpark:Finished xgboost training!\n",
            "INFO:XGBoost-PySpark:Running xgboost-2.1.4 on 1 workers with\n",
            "\tbooster params: {'device': 'cpu', 'learning_rate': 0.1, 'max_depth': 3, 'objective': 'multi:softprob', 'num_classes': 8, 'eta': 0.1, 'num_round': 100, 'num_class': 8, 'nthread': 1}\n",
            "\ttrain_call_kwargs_params: {'verbose_eval': True, 'num_boost_round': 50}\n",
            "\tdmatrix_kwargs: {'nthread': 1, 'missing': nan}\n",
            "INFO:XGBoost-PySpark:Finished xgboost training!\n",
            "INFO:XGBoost-PySpark:Running xgboost-2.1.4 on 1 workers with\n",
            "\tbooster params: {'device': 'cpu', 'learning_rate': 0.1, 'max_depth': 3, 'objective': 'multi:softprob', 'num_classes': 8, 'eta': 0.1, 'num_round': 100, 'num_class': 8, 'nthread': 1}\n",
            "\ttrain_call_kwargs_params: {'verbose_eval': True, 'num_boost_round': 100}\n",
            "\tdmatrix_kwargs: {'nthread': 1, 'missing': nan}\n",
            "INFO:XGBoost-PySpark:Finished xgboost training!\n",
            "INFO:XGBoost-PySpark:Running xgboost-2.1.4 on 1 workers with\n",
            "\tbooster params: {'device': 'cpu', 'learning_rate': 0.1, 'max_depth': 3, 'objective': 'multi:softprob', 'num_classes': 8, 'eta': 0.1, 'num_round': 100, 'num_class': 8, 'nthread': 1}\n",
            "\ttrain_call_kwargs_params: {'verbose_eval': True, 'num_boost_round': 200}\n",
            "\tdmatrix_kwargs: {'nthread': 1, 'missing': nan}\n",
            "INFO:XGBoost-PySpark:Finished xgboost training!\n",
            "INFO:XGBoost-PySpark:Running xgboost-2.1.4 on 1 workers with\n",
            "\tbooster params: {'device': 'cpu', 'learning_rate': 0.3, 'max_depth': 3, 'objective': 'multi:softprob', 'num_classes': 8, 'eta': 0.1, 'num_round': 100, 'num_class': 8, 'nthread': 1}\n",
            "\ttrain_call_kwargs_params: {'verbose_eval': True, 'num_boost_round': 50}\n",
            "\tdmatrix_kwargs: {'nthread': 1, 'missing': nan}\n",
            "INFO:XGBoost-PySpark:Finished xgboost training!\n",
            "INFO:XGBoost-PySpark:Running xgboost-2.1.4 on 1 workers with\n",
            "\tbooster params: {'device': 'cpu', 'learning_rate': 0.3, 'max_depth': 3, 'objective': 'multi:softprob', 'num_classes': 8, 'eta': 0.1, 'num_round': 100, 'num_class': 8, 'nthread': 1}\n",
            "\ttrain_call_kwargs_params: {'verbose_eval': True, 'num_boost_round': 100}\n",
            "\tdmatrix_kwargs: {'nthread': 1, 'missing': nan}\n",
            "INFO:XGBoost-PySpark:Finished xgboost training!\n",
            "INFO:XGBoost-PySpark:Running xgboost-2.1.4 on 1 workers with\n",
            "\tbooster params: {'device': 'cpu', 'learning_rate': 0.3, 'max_depth': 3, 'objective': 'multi:softprob', 'num_classes': 8, 'eta': 0.1, 'num_round': 100, 'num_class': 8, 'nthread': 1}\n",
            "\ttrain_call_kwargs_params: {'verbose_eval': True, 'num_boost_round': 200}\n",
            "\tdmatrix_kwargs: {'nthread': 1, 'missing': nan}\n",
            "INFO:XGBoost-PySpark:Finished xgboost training!\n",
            "INFO:XGBoost-PySpark:Running xgboost-2.1.4 on 1 workers with\n",
            "\tbooster params: {'device': 'cpu', 'learning_rate': 0.01, 'max_depth': 6, 'objective': 'multi:softprob', 'num_classes': 8, 'eta': 0.1, 'num_round': 100, 'num_class': 8, 'nthread': 1}\n",
            "\ttrain_call_kwargs_params: {'verbose_eval': True, 'num_boost_round': 50}\n",
            "\tdmatrix_kwargs: {'nthread': 1, 'missing': nan}\n",
            "INFO:XGBoost-PySpark:Finished xgboost training!\n",
            "INFO:XGBoost-PySpark:Running xgboost-2.1.4 on 1 workers with\n",
            "\tbooster params: {'device': 'cpu', 'learning_rate': 0.01, 'max_depth': 6, 'objective': 'multi:softprob', 'num_classes': 8, 'eta': 0.1, 'num_round': 100, 'num_class': 8, 'nthread': 1}\n",
            "\ttrain_call_kwargs_params: {'verbose_eval': True, 'num_boost_round': 100}\n",
            "\tdmatrix_kwargs: {'nthread': 1, 'missing': nan}\n",
            "INFO:XGBoost-PySpark:Finished xgboost training!\n",
            "INFO:XGBoost-PySpark:Running xgboost-2.1.4 on 1 workers with\n",
            "\tbooster params: {'device': 'cpu', 'learning_rate': 0.01, 'max_depth': 6, 'objective': 'multi:softprob', 'num_classes': 8, 'eta': 0.1, 'num_round': 100, 'num_class': 8, 'nthread': 1}\n",
            "\ttrain_call_kwargs_params: {'verbose_eval': True, 'num_boost_round': 200}\n",
            "\tdmatrix_kwargs: {'nthread': 1, 'missing': nan}\n",
            "INFO:XGBoost-PySpark:Finished xgboost training!\n",
            "INFO:XGBoost-PySpark:Running xgboost-2.1.4 on 1 workers with\n",
            "\tbooster params: {'device': 'cpu', 'learning_rate': 0.1, 'max_depth': 6, 'objective': 'multi:softprob', 'num_classes': 8, 'eta': 0.1, 'num_round': 100, 'num_class': 8, 'nthread': 1}\n",
            "\ttrain_call_kwargs_params: {'verbose_eval': True, 'num_boost_round': 50}\n",
            "\tdmatrix_kwargs: {'nthread': 1, 'missing': nan}\n",
            "INFO:XGBoost-PySpark:Finished xgboost training!\n",
            "INFO:XGBoost-PySpark:Running xgboost-2.1.4 on 1 workers with\n",
            "\tbooster params: {'device': 'cpu', 'learning_rate': 0.1, 'max_depth': 6, 'objective': 'multi:softprob', 'num_classes': 8, 'eta': 0.1, 'num_round': 100, 'num_class': 8, 'nthread': 1}\n",
            "\ttrain_call_kwargs_params: {'verbose_eval': True, 'num_boost_round': 100}\n",
            "\tdmatrix_kwargs: {'nthread': 1, 'missing': nan}\n",
            "INFO:XGBoost-PySpark:Finished xgboost training!\n",
            "INFO:XGBoost-PySpark:Running xgboost-2.1.4 on 1 workers with\n",
            "\tbooster params: {'device': 'cpu', 'learning_rate': 0.1, 'max_depth': 6, 'objective': 'multi:softprob', 'num_classes': 8, 'eta': 0.1, 'num_round': 100, 'num_class': 8, 'nthread': 1}\n",
            "\ttrain_call_kwargs_params: {'verbose_eval': True, 'num_boost_round': 200}\n",
            "\tdmatrix_kwargs: {'nthread': 1, 'missing': nan}\n",
            "INFO:XGBoost-PySpark:Finished xgboost training!\n",
            "INFO:XGBoost-PySpark:Running xgboost-2.1.4 on 1 workers with\n",
            "\tbooster params: {'device': 'cpu', 'learning_rate': 0.3, 'max_depth': 6, 'objective': 'multi:softprob', 'num_classes': 8, 'eta': 0.1, 'num_round': 100, 'num_class': 8, 'nthread': 1}\n",
            "\ttrain_call_kwargs_params: {'verbose_eval': True, 'num_boost_round': 50}\n",
            "\tdmatrix_kwargs: {'nthread': 1, 'missing': nan}\n",
            "INFO:XGBoost-PySpark:Finished xgboost training!\n",
            "INFO:XGBoost-PySpark:Running xgboost-2.1.4 on 1 workers with\n",
            "\tbooster params: {'device': 'cpu', 'learning_rate': 0.3, 'max_depth': 6, 'objective': 'multi:softprob', 'num_classes': 8, 'eta': 0.1, 'num_round': 100, 'num_class': 8, 'nthread': 1}\n",
            "\ttrain_call_kwargs_params: {'verbose_eval': True, 'num_boost_round': 100}\n",
            "\tdmatrix_kwargs: {'nthread': 1, 'missing': nan}\n",
            "INFO:XGBoost-PySpark:Finished xgboost training!\n",
            "INFO:XGBoost-PySpark:Running xgboost-2.1.4 on 1 workers with\n",
            "\tbooster params: {'device': 'cpu', 'learning_rate': 0.3, 'max_depth': 6, 'objective': 'multi:softprob', 'num_classes': 8, 'eta': 0.1, 'num_round': 100, 'num_class': 8, 'nthread': 1}\n",
            "\ttrain_call_kwargs_params: {'verbose_eval': True, 'num_boost_round': 200}\n",
            "\tdmatrix_kwargs: {'nthread': 1, 'missing': nan}\n",
            "INFO:XGBoost-PySpark:Finished xgboost training!\n",
            "INFO:XGBoost-PySpark:Running xgboost-2.1.4 on 1 workers with\n",
            "\tbooster params: {'device': 'cpu', 'learning_rate': 0.01, 'max_depth': 9, 'objective': 'multi:softprob', 'num_classes': 8, 'eta': 0.1, 'num_round': 100, 'num_class': 8, 'nthread': 1}\n",
            "\ttrain_call_kwargs_params: {'verbose_eval': True, 'num_boost_round': 50}\n",
            "\tdmatrix_kwargs: {'nthread': 1, 'missing': nan}\n",
            "INFO:XGBoost-PySpark:Finished xgboost training!\n",
            "INFO:XGBoost-PySpark:Running xgboost-2.1.4 on 1 workers with\n",
            "\tbooster params: {'device': 'cpu', 'learning_rate': 0.01, 'max_depth': 9, 'objective': 'multi:softprob', 'num_classes': 8, 'eta': 0.1, 'num_round': 100, 'num_class': 8, 'nthread': 1}\n",
            "\ttrain_call_kwargs_params: {'verbose_eval': True, 'num_boost_round': 100}\n",
            "\tdmatrix_kwargs: {'nthread': 1, 'missing': nan}\n",
            "INFO:XGBoost-PySpark:Finished xgboost training!\n",
            "INFO:XGBoost-PySpark:Running xgboost-2.1.4 on 1 workers with\n",
            "\tbooster params: {'device': 'cpu', 'learning_rate': 0.01, 'max_depth': 9, 'objective': 'multi:softprob', 'num_classes': 8, 'eta': 0.1, 'num_round': 100, 'num_class': 8, 'nthread': 1}\n",
            "\ttrain_call_kwargs_params: {'verbose_eval': True, 'num_boost_round': 200}\n",
            "\tdmatrix_kwargs: {'nthread': 1, 'missing': nan}\n",
            "INFO:XGBoost-PySpark:Finished xgboost training!\n",
            "INFO:XGBoost-PySpark:Running xgboost-2.1.4 on 1 workers with\n",
            "\tbooster params: {'device': 'cpu', 'learning_rate': 0.1, 'max_depth': 9, 'objective': 'multi:softprob', 'num_classes': 8, 'eta': 0.1, 'num_round': 100, 'num_class': 8, 'nthread': 1}\n",
            "\ttrain_call_kwargs_params: {'verbose_eval': True, 'num_boost_round': 50}\n",
            "\tdmatrix_kwargs: {'nthread': 1, 'missing': nan}\n",
            "INFO:XGBoost-PySpark:Finished xgboost training!\n",
            "INFO:XGBoost-PySpark:Running xgboost-2.1.4 on 1 workers with\n",
            "\tbooster params: {'device': 'cpu', 'learning_rate': 0.1, 'max_depth': 9, 'objective': 'multi:softprob', 'num_classes': 8, 'eta': 0.1, 'num_round': 100, 'num_class': 8, 'nthread': 1}\n",
            "\ttrain_call_kwargs_params: {'verbose_eval': True, 'num_boost_round': 100}\n",
            "\tdmatrix_kwargs: {'nthread': 1, 'missing': nan}\n",
            "INFO:XGBoost-PySpark:Finished xgboost training!\n",
            "INFO:XGBoost-PySpark:Running xgboost-2.1.4 on 1 workers with\n",
            "\tbooster params: {'device': 'cpu', 'learning_rate': 0.1, 'max_depth': 9, 'objective': 'multi:softprob', 'num_classes': 8, 'eta': 0.1, 'num_round': 100, 'num_class': 8, 'nthread': 1}\n",
            "\ttrain_call_kwargs_params: {'verbose_eval': True, 'num_boost_round': 200}\n",
            "\tdmatrix_kwargs: {'nthread': 1, 'missing': nan}\n",
            "INFO:XGBoost-PySpark:Finished xgboost training!\n",
            "INFO:XGBoost-PySpark:Running xgboost-2.1.4 on 1 workers with\n",
            "\tbooster params: {'device': 'cpu', 'learning_rate': 0.3, 'max_depth': 9, 'objective': 'multi:softprob', 'num_classes': 8, 'eta': 0.1, 'num_round': 100, 'num_class': 8, 'nthread': 1}\n",
            "\ttrain_call_kwargs_params: {'verbose_eval': True, 'num_boost_round': 50}\n",
            "\tdmatrix_kwargs: {'nthread': 1, 'missing': nan}\n",
            "INFO:XGBoost-PySpark:Finished xgboost training!\n",
            "INFO:XGBoost-PySpark:Running xgboost-2.1.4 on 1 workers with\n",
            "\tbooster params: {'device': 'cpu', 'learning_rate': 0.3, 'max_depth': 9, 'objective': 'multi:softprob', 'num_classes': 8, 'eta': 0.1, 'num_round': 100, 'num_class': 8, 'nthread': 1}\n",
            "\ttrain_call_kwargs_params: {'verbose_eval': True, 'num_boost_round': 100}\n",
            "\tdmatrix_kwargs: {'nthread': 1, 'missing': nan}\n",
            "INFO:XGBoost-PySpark:Finished xgboost training!\n",
            "INFO:XGBoost-PySpark:Running xgboost-2.1.4 on 1 workers with\n",
            "\tbooster params: {'device': 'cpu', 'learning_rate': 0.3, 'max_depth': 9, 'objective': 'multi:softprob', 'num_classes': 8, 'eta': 0.1, 'num_round': 100, 'num_class': 8, 'nthread': 1}\n",
            "\ttrain_call_kwargs_params: {'verbose_eval': True, 'num_boost_round': 200}\n",
            "\tdmatrix_kwargs: {'nthread': 1, 'missing': nan}\n",
            "INFO:XGBoost-PySpark:Finished xgboost training!\n",
            "INFO:XGBoost-PySpark:Running xgboost-2.1.4 on 1 workers with\n",
            "\tbooster params: {'device': 'cpu', 'learning_rate': 0.1, 'max_depth': 6, 'objective': 'multi:softprob', 'num_classes': 8, 'eta': 0.1, 'num_round': 100, 'num_class': 8, 'nthread': 1}\n",
            "\ttrain_call_kwargs_params: {'verbose_eval': True, 'num_boost_round': 200}\n",
            "\tdmatrix_kwargs: {'nthread': 1, 'missing': nan}\n",
            "INFO:XGBoost-PySpark:Finished xgboost training!\n"
          ]
        },
        {
          "output_type": "stream",
          "name": "stdout",
          "text": [
            "XGBoost Model Accuracy: 0.37861372344130967\n"
          ]
        }
      ]
    },
    {
      "cell_type": "code",
      "source": [
        "model_save_path = \"/content/drive/MyDrive/ml-datasets/saved-model/tcc_ceds_music/saved_model/xg-boosts-combined-df-v2\""
      ],
      "metadata": {
        "id": "Tz8YG8irEpVP"
      },
      "execution_count": null,
      "outputs": []
    },
    {
      "cell_type": "code",
      "source": [
        "\n",
        "# Save the best model in the specified folder\n",
        "best_model.write().overwrite().save(model_save_path)\n"
      ],
      "metadata": {
        "id": "5C-kfZvYEqoQ"
      },
      "execution_count": null,
      "outputs": []
    },
    {
      "cell_type": "markdown",
      "source": [
        "## Predict using XG Boost Model"
      ],
      "metadata": {
        "id": "Rx4ZcBrEpwK5"
      }
    },
    {
      "cell_type": "code",
      "source": [
        "from xgboost.spark import SparkXGBClassifierModel\n",
        "from pyspark.ml.feature import Word2VecModel\n",
        "\n",
        "# Load the saved model\n",
        "loaded_model = SparkXGBClassifierModel.load(model_save_path)\n",
        "word2Vec_model = Word2VecModel.load(word2vec_model_path)\n",
        "nltk.download(\"punkt\")\n",
        "tokenizer = Tokenizer(inputCol=\"clean_lyrics\", outputCol=\"words\")\n",
        "stop_words_remover = StopWordsRemover(inputCol=\"words\", outputCol=\"filtered_words\")\n",
        "stemmer = PorterStemmer()"
      ],
      "metadata": {
        "id": "Xcw-1R9VIlps",
        "colab": {
          "base_uri": "https://localhost:8080/"
        },
        "outputId": "75aad6da-943c-4cad-efb7-df874a9b80aa"
      },
      "execution_count": null,
      "outputs": [
        {
          "output_type": "stream",
          "name": "stderr",
          "text": [
            "[nltk_data] Downloading package punkt to /root/nltk_data...\n",
            "[nltk_data]   Package punkt is already up-to-date!\n"
          ]
        }
      ]
    },
    {
      "cell_type": "code",
      "source": [
        "spark = SparkSession.builder.appName(\"MusicClassification-app\").getOrCreate()\n",
        "\n",
        "\n",
        "def preprocess_lyrics(lyrics):\n",
        "    df = spark.createDataFrame([(lyrics,)], [\"lyrics\"])\n",
        "    df = df.withColumn(\"clean_lyrics\", lower(col(\"lyrics\")))\n",
        "    df = df.withColumn(\"clean_lyrics\", regexp_replace(col(\"clean_lyrics\"), \"[^a-zA-Z\\\\s]\", \"\"))\n",
        "\n",
        "    df = tokenizer.transform(df)\n",
        "\n",
        "    df = stop_words_remover.transform(df)\n",
        "\n",
        "    stem_udf = udf(lambda words: [stemmer.stem(word) for word in words], ArrayType(StringType()))\n",
        "    df = df.withColumn(\"stemmed_words\", stem_udf(col(\"filtered_words\")))\n",
        "\n",
        "    df = word2Vec_model.transform(df)\n",
        "\n",
        "    return df\n",
        "\n",
        "# Function to predict probabilities\n",
        "def predict_lyrics(lyrics):\n",
        "    processed_df = preprocess_lyrics(lyrics)\n",
        "    predictions = loaded_model.transform(processed_df)\n",
        "    probabilities = predictions.select(\"probability\").collect()[0][\"probability\"]\n",
        "    return probabilities"
      ],
      "metadata": {
        "id": "klhAOsPuSXI-"
      },
      "execution_count": null,
      "outputs": []
    },
    {
      "cell_type": "code",
      "source": [
        "song_lyr = \"When Mama said that it was okay Mama said that it was quite alright Our kind of people had a bed for the night And it was okay Mama told us we were good kids And Daddy told us never listen to the ones Pointing nasty fingers and making fun 'Cause we were good kids Remember asking both my mom and dad Why we never travelled to exotic lands We only ever really visit friends Nothing to tell when the summer ends We never really went buying clothes Folks were passing on the stuff in plenty loads New shoes once a year and then Out to play ball so we could ruin them When Mama said that it was okay Mama said that it was quite alright Our kind of people had a bed for the night And it was okay Mama told us we were good kids And Daddy told us never listen to the ones Pointing nasty fingers and making fun 'Cause we were good kids Don’t get me wrong, I didn’t have it bad I got enough loving from my mom and dad But I don’t think they really understood When I said that I wanted a deal in Hollywood I told them I'd be singing on TV The other kids were calling me a wannabe The older kids, they started bugging me But now they're all standing right in front of me When Mama said that it was okay Mama said that it was quite alright Our kind of people had a bed for the night And it was okay Mama told us we were good kids And Daddy told us never listen to the ones Pointing nasty fingers and making fun 'Cause we were good kids I know which place I'm from I know my home When I’m in doubt and struggling That’s where I go An old friend can give advice When new friends only know a half story That’s why I always keep 'em tight And why I'm okay I said I'm okay You know what my mama said? You know what she told me? When Mama said that it was okay Mama said that it was quite alright Our kind of people had a bed for the night And it was okay Mama told us we were good kids And Daddy told us never listen to the ones Pointing nasty fingers and making fun 'Cause we were good kids When Mama said that it was okay Dabdadadabdadad bdaaa... Dabdadadabdadad bdaaa... Dabdadabdadadbdadabdaaaaa... When Mama said that it was okay Dabdadadabdadad bdaaa... Dabdadadabdadad bdaaa... Dabdadabdadadbdadabdaaaaa... When Mama said that it was okay\"\n",
        "pred_res = predict_lyrics(song_lyr)\n",
        "pred_res"
      ],
      "metadata": {
        "colab": {
          "base_uri": "https://localhost:8080/"
        },
        "id": "UI5YZZ3XTSav",
        "outputId": "c1f82ca2-f234-4da1-f090-e82cb9fc9289"
      },
      "execution_count": null,
      "outputs": [
        {
          "output_type": "execute_result",
          "data": {
            "text/plain": [
              "DenseVector([0.0106, 0.0212, 0.0107, 0.0035, 0.0039, 0.007, 0.0002, 0.9428])"
            ]
          },
          "metadata": {},
          "execution_count": 25
        }
      ]
    }
  ],
  "metadata": {
    "colab": {
      "provenance": []
    },
    "kernelspec": {
      "display_name": "Python 3",
      "name": "python3"
    },
    "language_info": {
      "name": "python"
    }
  },
  "nbformat": 4,
  "nbformat_minor": 0
}